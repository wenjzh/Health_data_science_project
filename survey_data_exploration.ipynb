{
 "cells": [
  {
   "cell_type": "code",
   "execution_count": 37,
   "metadata": {},
   "outputs": [],
   "source": [
    "import pandas as pd\n",
    "import numpy as np\n",
    "import scipy.stats as stats\n",
    "import matplotlib.pyplot as plt\n",
    "import seaborn as sns"
   ]
  },
  {
   "cell_type": "markdown",
   "metadata": {},
   "source": [
    "### 1. Explore SleepAnalysisinterval data file"
   ]
  },
  {
   "cell_type": "code",
   "execution_count": 3,
   "metadata": {},
   "outputs": [],
   "source": [
    "sleep202003 = pd.read_csv(\"//umms-HDS629-win.turbo.storage.umich.edu/umms-HDS629/MIPACT/HealthKit_Live/HealthKit_SleepAnalysisinterval/SleepAnalysisinterval_202003.csv\")"
   ]
  },
  {
   "cell_type": "code",
   "execution_count": 4,
   "metadata": {
    "scrolled": true
   },
   "outputs": [
    {
     "data": {
      "text/html": [
       "<div>\n",
       "<style scoped>\n",
       "    .dataframe tbody tr th:only-of-type {\n",
       "        vertical-align: middle;\n",
       "    }\n",
       "\n",
       "    .dataframe tbody tr th {\n",
       "        vertical-align: top;\n",
       "    }\n",
       "\n",
       "    .dataframe thead th {\n",
       "        text-align: right;\n",
       "    }\n",
       "</style>\n",
       "<table border=\"1\" class=\"dataframe\">\n",
       "  <thead>\n",
       "    <tr style=\"text-align: right;\">\n",
       "      <th></th>\n",
       "      <th>ParticipantResearchID</th>\n",
       "      <th>Device</th>\n",
       "      <th>HealthKitType</th>\n",
       "      <th>StartDate</th>\n",
       "      <th>Date</th>\n",
       "      <th>Value</th>\n",
       "      <th>Units</th>\n",
       "      <th>SourceIdentifier</th>\n",
       "      <th>SourceVersion</th>\n",
       "      <th>DeviceModel</th>\n",
       "      <th>DeviceManufacturer</th>\n",
       "      <th>DeviceHardwareVersion</th>\n",
       "      <th>DeviceSoftwareVersion</th>\n",
       "    </tr>\n",
       "  </thead>\n",
       "  <tbody>\n",
       "    <tr>\n",
       "      <th>0</th>\n",
       "      <td>5833</td>\n",
       "      <td>NaN</td>\n",
       "      <td>SleepAnalysisInterval</td>\n",
       "      <td>2020-03-14</td>\n",
       "      <td>2020-03-14</td>\n",
       "      <td>InBed</td>\n",
       "      <td>NaN</td>\n",
       "      <td>io.bodymatter.SleepWatch</td>\n",
       "      <td>6.2.1.0</td>\n",
       "      <td>NaN</td>\n",
       "      <td>NaN</td>\n",
       "      <td>NaN</td>\n",
       "      <td>NaN</td>\n",
       "    </tr>\n",
       "    <tr>\n",
       "      <th>1</th>\n",
       "      <td>5833</td>\n",
       "      <td>NaN</td>\n",
       "      <td>SleepAnalysisInterval</td>\n",
       "      <td>2020-03-14</td>\n",
       "      <td>2020-03-14</td>\n",
       "      <td>InBed</td>\n",
       "      <td>NaN</td>\n",
       "      <td>io.bodymatter.SleepWatch</td>\n",
       "      <td>6.2.1.0</td>\n",
       "      <td>NaN</td>\n",
       "      <td>NaN</td>\n",
       "      <td>NaN</td>\n",
       "      <td>NaN</td>\n",
       "    </tr>\n",
       "    <tr>\n",
       "      <th>2</th>\n",
       "      <td>5833</td>\n",
       "      <td>NaN</td>\n",
       "      <td>SleepAnalysisInterval</td>\n",
       "      <td>2020-03-12</td>\n",
       "      <td>2020-03-12</td>\n",
       "      <td>InBed</td>\n",
       "      <td>NaN</td>\n",
       "      <td>io.bodymatter.SleepWatch</td>\n",
       "      <td>6.2.1.0</td>\n",
       "      <td>NaN</td>\n",
       "      <td>NaN</td>\n",
       "      <td>NaN</td>\n",
       "      <td>NaN</td>\n",
       "    </tr>\n",
       "    <tr>\n",
       "      <th>3</th>\n",
       "      <td>5833</td>\n",
       "      <td>NaN</td>\n",
       "      <td>SleepAnalysisInterval</td>\n",
       "      <td>2020-03-15</td>\n",
       "      <td>2020-03-15</td>\n",
       "      <td>InBed</td>\n",
       "      <td>NaN</td>\n",
       "      <td>io.bodymatter.SleepWatch</td>\n",
       "      <td>6.2.1.0</td>\n",
       "      <td>NaN</td>\n",
       "      <td>NaN</td>\n",
       "      <td>NaN</td>\n",
       "      <td>NaN</td>\n",
       "    </tr>\n",
       "    <tr>\n",
       "      <th>4</th>\n",
       "      <td>5833</td>\n",
       "      <td>NaN</td>\n",
       "      <td>SleepAnalysisInterval</td>\n",
       "      <td>2020-03-15</td>\n",
       "      <td>2020-03-15</td>\n",
       "      <td>InBed</td>\n",
       "      <td>NaN</td>\n",
       "      <td>io.bodymatter.SleepWatch</td>\n",
       "      <td>6.2.1.0</td>\n",
       "      <td>NaN</td>\n",
       "      <td>NaN</td>\n",
       "      <td>NaN</td>\n",
       "      <td>NaN</td>\n",
       "    </tr>\n",
       "  </tbody>\n",
       "</table>\n",
       "</div>"
      ],
      "text/plain": [
       "   ParticipantResearchID Device          HealthKitType   StartDate  \\\n",
       "0                   5833    NaN  SleepAnalysisInterval  2020-03-14   \n",
       "1                   5833    NaN  SleepAnalysisInterval  2020-03-14   \n",
       "2                   5833    NaN  SleepAnalysisInterval  2020-03-12   \n",
       "3                   5833    NaN  SleepAnalysisInterval  2020-03-15   \n",
       "4                   5833    NaN  SleepAnalysisInterval  2020-03-15   \n",
       "\n",
       "         Date  Value  Units          SourceIdentifier SourceVersion  \\\n",
       "0  2020-03-14  InBed    NaN  io.bodymatter.SleepWatch       6.2.1.0   \n",
       "1  2020-03-14  InBed    NaN  io.bodymatter.SleepWatch       6.2.1.0   \n",
       "2  2020-03-12  InBed    NaN  io.bodymatter.SleepWatch       6.2.1.0   \n",
       "3  2020-03-15  InBed    NaN  io.bodymatter.SleepWatch       6.2.1.0   \n",
       "4  2020-03-15  InBed    NaN  io.bodymatter.SleepWatch       6.2.1.0   \n",
       "\n",
       "  DeviceModel DeviceManufacturer DeviceHardwareVersion DeviceSoftwareVersion  \n",
       "0         NaN                NaN                   NaN                   NaN  \n",
       "1         NaN                NaN                   NaN                   NaN  \n",
       "2         NaN                NaN                   NaN                   NaN  \n",
       "3         NaN                NaN                   NaN                   NaN  \n",
       "4         NaN                NaN                   NaN                   NaN  "
      ]
     },
     "execution_count": 4,
     "metadata": {},
     "output_type": "execute_result"
    }
   ],
   "source": [
    "sleep202003.head()"
   ]
  },
  {
   "cell_type": "markdown",
   "metadata": {},
   "source": [
    "### 2. Explore survey data"
   ]
  },
  {
   "cell_type": "code",
   "execution_count": 98,
   "metadata": {
    "scrolled": true
   },
   "outputs": [],
   "source": [
    "# survey202003 = pd.read_csv(\"//umms-HDS629-win.turbo.storage.umich.edu/umms-HDS629/MIPACT/HealthKit_Live/Surveys/Surveys_202003.csv\", engine = \"python\")\n",
    "survey202003 = pd.read_csv(\"/Users/wenjzh/githubproject/Health-Big-Data/data/Surveys/Surveys_202003.csv\", engine = \"python\")"
   ]
  },
  {
   "cell_type": "code",
   "execution_count": 99,
   "metadata": {},
   "outputs": [
    {
     "data": {
      "text/html": [
       "<div>\n",
       "<style scoped>\n",
       "    .dataframe tbody tr th:only-of-type {\n",
       "        vertical-align: middle;\n",
       "    }\n",
       "\n",
       "    .dataframe tbody tr th {\n",
       "        vertical-align: top;\n",
       "    }\n",
       "\n",
       "    .dataframe thead th {\n",
       "        text-align: right;\n",
       "    }\n",
       "</style>\n",
       "<table border=\"1\" class=\"dataframe\">\n",
       "  <thead>\n",
       "    <tr style=\"text-align: right;\">\n",
       "      <th></th>\n",
       "      <th>ParticipantResearchID</th>\n",
       "      <th>SurveyKey</th>\n",
       "      <th>SurveyName</th>\n",
       "      <th>SurveyVersion</th>\n",
       "      <th>ResultIdentifier</th>\n",
       "      <th>SurveyStepType</th>\n",
       "      <th>SurveyTaskStatus</th>\n",
       "      <th>SurveyStartDate</th>\n",
       "      <th>SurveyEndDate</th>\n",
       "      <th>SurveyDueDate</th>\n",
       "      <th>SurveyQuestionStartDate</th>\n",
       "      <th>SurveyQuestionEndDate</th>\n",
       "      <th>SurveyQuestion</th>\n",
       "      <th>SurveyAnswer</th>\n",
       "    </tr>\n",
       "  </thead>\n",
       "  <tbody>\n",
       "    <tr>\n",
       "      <td>0</td>\n",
       "      <td>2558</td>\n",
       "      <td>641C66A6-EC7A-E811-8164-98C946646B24</td>\n",
       "      <td>World Health Organization Disability Assessmen...</td>\n",
       "      <td>7</td>\n",
       "      <td>S12</td>\n",
       "      <td>QuestionStep</td>\n",
       "      <td>Complete</td>\n",
       "      <td>2020-03-04</td>\n",
       "      <td>2020-03-04</td>\n",
       "      <td>2020-03-05</td>\n",
       "      <td>2020-03-04</td>\n",
       "      <td>2020-03-04</td>\n",
       "      <td>In the past 30 days, how much difficulty did y...</td>\n",
       "      <td>1</td>\n",
       "    </tr>\n",
       "    <tr>\n",
       "      <td>1</td>\n",
       "      <td>1825</td>\n",
       "      <td>8EC4F74D-DE85-E811-8164-98C946646B24</td>\n",
       "      <td>Sleep Disturbance - Every 4th Quarter</td>\n",
       "      <td>6</td>\n",
       "      <td>S11</td>\n",
       "      <td>QuestionStep</td>\n",
       "      <td>Complete</td>\n",
       "      <td>2020-03-08</td>\n",
       "      <td>2020-03-08</td>\n",
       "      <td>2020-03-09</td>\n",
       "      <td>2020-03-08</td>\n",
       "      <td>2020-03-08</td>\n",
       "      <td>Do you snore loudly (louder than talking or lo...</td>\n",
       "      <td>False</td>\n",
       "    </tr>\n",
       "    <tr>\n",
       "      <td>2</td>\n",
       "      <td>1750</td>\n",
       "      <td>825A8E24-D685-E811-8164-98C946646B24</td>\n",
       "      <td>Patient Health Questionnaire - Quarterly</td>\n",
       "      <td>3</td>\n",
       "      <td>Q2</td>\n",
       "      <td>QuestionStep</td>\n",
       "      <td>Complete</td>\n",
       "      <td>2020-03-01</td>\n",
       "      <td>2020-03-01</td>\n",
       "      <td>2020-02-29</td>\n",
       "      <td>2020-03-01</td>\n",
       "      <td>2020-03-01</td>\n",
       "      <td>Over the last 2 weeks, how often have you been...</td>\n",
       "      <td>0</td>\n",
       "    </tr>\n",
       "    <tr>\n",
       "      <td>3</td>\n",
       "      <td>6461</td>\n",
       "      <td>D565D787-739A-E811-8166-F4DD8A83AAAC</td>\n",
       "      <td>Weekly Blood Pressure</td>\n",
       "      <td>5</td>\n",
       "      <td>MOOD</td>\n",
       "      <td>FormStep</td>\n",
       "      <td>Complete</td>\n",
       "      <td>2020-03-26</td>\n",
       "      <td>2020-03-26</td>\n",
       "      <td>2020-04-01</td>\n",
       "      <td>2020-03-26</td>\n",
       "      <td>2020-03-26</td>\n",
       "      <td>Current Mood</td>\n",
       "      <td>9</td>\n",
       "    </tr>\n",
       "    <tr>\n",
       "      <td>4</td>\n",
       "      <td>4599</td>\n",
       "      <td>890B3FF8-DE90-E811-8166-F4DD8A83AAAC</td>\n",
       "      <td>TAPS+  - Quarterly FEMALE</td>\n",
       "      <td>5</td>\n",
       "      <td>T0.5</td>\n",
       "      <td>QuestionStep</td>\n",
       "      <td>Complete</td>\n",
       "      <td>2020-03-02</td>\n",
       "      <td>2020-03-02</td>\n",
       "      <td>2020-03-03</td>\n",
       "      <td>2020-03-02</td>\n",
       "      <td>2020-03-02</td>\n",
       "      <td>Have you changed your smoking, drinking, drug ...</td>\n",
       "      <td>False</td>\n",
       "    </tr>\n",
       "  </tbody>\n",
       "</table>\n",
       "</div>"
      ],
      "text/plain": [
       "   ParticipantResearchID                             SurveyKey  \\\n",
       "0                   2558  641C66A6-EC7A-E811-8164-98C946646B24   \n",
       "1                   1825  8EC4F74D-DE85-E811-8164-98C946646B24   \n",
       "2                   1750  825A8E24-D685-E811-8164-98C946646B24   \n",
       "3                   6461  D565D787-739A-E811-8166-F4DD8A83AAAC   \n",
       "4                   4599  890B3FF8-DE90-E811-8166-F4DD8A83AAAC   \n",
       "\n",
       "                                          SurveyName  SurveyVersion  \\\n",
       "0  World Health Organization Disability Assessmen...              7   \n",
       "1              Sleep Disturbance - Every 4th Quarter              6   \n",
       "2           Patient Health Questionnaire - Quarterly              3   \n",
       "3                              Weekly Blood Pressure              5   \n",
       "4                          TAPS+  - Quarterly FEMALE              5   \n",
       "\n",
       "  ResultIdentifier SurveyStepType SurveyTaskStatus SurveyStartDate  \\\n",
       "0              S12   QuestionStep         Complete      2020-03-04   \n",
       "1              S11   QuestionStep         Complete      2020-03-08   \n",
       "2               Q2   QuestionStep         Complete      2020-03-01   \n",
       "3             MOOD       FormStep         Complete      2020-03-26   \n",
       "4             T0.5   QuestionStep         Complete      2020-03-02   \n",
       "\n",
       "  SurveyEndDate SurveyDueDate SurveyQuestionStartDate SurveyQuestionEndDate  \\\n",
       "0    2020-03-04    2020-03-05              2020-03-04            2020-03-04   \n",
       "1    2020-03-08    2020-03-09              2020-03-08            2020-03-08   \n",
       "2    2020-03-01    2020-02-29              2020-03-01            2020-03-01   \n",
       "3    2020-03-26    2020-04-01              2020-03-26            2020-03-26   \n",
       "4    2020-03-02    2020-03-03              2020-03-02            2020-03-02   \n",
       "\n",
       "                                      SurveyQuestion SurveyAnswer  \n",
       "0  In the past 30 days, how much difficulty did y...            1  \n",
       "1  Do you snore loudly (louder than talking or lo...        False  \n",
       "2  Over the last 2 weeks, how often have you been...            0  \n",
       "3                                       Current Mood            9  \n",
       "4  Have you changed your smoking, drinking, drug ...        False  "
      ]
     },
     "execution_count": 99,
     "metadata": {},
     "output_type": "execute_result"
    }
   ],
   "source": [
    "survey202003.head()"
   ]
  },
  {
   "cell_type": "code",
   "execution_count": 100,
   "metadata": {},
   "outputs": [
    {
     "data": {
      "text/plain": [
       "array(['World Health Organization Disability Assessment Scale 2.0 - Biannually',\n",
       "       'Sleep Disturbance - Every 4th Quarter',\n",
       "       'Patient Health Questionnaire - Quarterly',\n",
       "       'Weekly Blood Pressure', 'TAPS+  - Quarterly FEMALE',\n",
       "       'Pain - Quarterly', 'Mobility - Annually',\n",
       "       'Life Stress - Biannually', 'Sleep Disturbance - Quarterly',\n",
       "       'Over-the-counter Medications',\n",
       "       'Generalized Anxiety Disorder - Quarterly',\n",
       "       'Weekly Blood Pressure + Menstruation Questions',\n",
       "       'TAPS+ - Annually MALE',\n",
       "       'NIH PROMIS Cognitive Function 4a - Quarterly',\n",
       "       \"Women's Health - Quarterly\", 'Mobility - Quarterly',\n",
       "       'TAPS+ - Annually FEMALE', 'Food - Quarterly', 'Food - Annually',\n",
       "       'eFHS - Cardiovascular History - Intake and Quarterly',\n",
       "       'TAPS+ - Quarterly MALE',\n",
       "       'eFHS - Medical History: Medications - Quarterly',\n",
       "       'eFHS - Non-Cardiovascular Diagnoses - Intake and Quarterly'],\n",
       "      dtype=object)"
      ]
     },
     "execution_count": 100,
     "metadata": {},
     "output_type": "execute_result"
    }
   ],
   "source": [
    "survey202003.SurveyName.unique()"
   ]
  },
  {
   "cell_type": "code",
   "execution_count": 8,
   "metadata": {},
   "outputs": [
    {
     "data": {
      "text/plain": [
       "23"
      ]
     },
     "execution_count": 8,
     "metadata": {},
     "output_type": "execute_result"
    }
   ],
   "source": [
    "survey202003.SurveyName.unique().size"
   ]
  },
  {
   "cell_type": "code",
   "execution_count": 101,
   "metadata": {},
   "outputs": [],
   "source": [
    "sleep_survey202003 = survey202003.loc[survey202003['SurveyName'].isin(['Sleep Disturbance - Every 4th Quarter', \n",
    "                                                                      'Life Stress - Biannually',\n",
    "                                                                     'Sleep Disturbance - Quarterly',\n",
    "                                                                     'Generalized Anxiety Disorder - Quarterly'])]"
   ]
  },
  {
   "cell_type": "code",
   "execution_count": 10,
   "metadata": {},
   "outputs": [],
   "source": [
    "# Choose survey\n",
    "sleep_survey202003 = survey202003.loc[survey202003['SurveyName'].isin(['Sleep Disturbance - Quarterly'])]"
   ]
  },
  {
   "cell_type": "code",
   "execution_count": 102,
   "metadata": {},
   "outputs": [],
   "source": [
    "# Extract information\n",
    "sleep_survey202003 = sleep_survey202003[['ParticipantResearchID', \n",
    "                                         'SurveyName', \n",
    "                                         'SurveyStartDate', \n",
    "                                         'SurveyQuestion', \n",
    "                                         'SurveyAnswer']]"
   ]
  },
  {
   "cell_type": "code",
   "execution_count": 103,
   "metadata": {},
   "outputs": [
    {
     "data": {
      "text/html": [
       "<div>\n",
       "<style scoped>\n",
       "    .dataframe tbody tr th:only-of-type {\n",
       "        vertical-align: middle;\n",
       "    }\n",
       "\n",
       "    .dataframe tbody tr th {\n",
       "        vertical-align: top;\n",
       "    }\n",
       "\n",
       "    .dataframe thead th {\n",
       "        text-align: right;\n",
       "    }\n",
       "</style>\n",
       "<table border=\"1\" class=\"dataframe\">\n",
       "  <thead>\n",
       "    <tr style=\"text-align: right;\">\n",
       "      <th></th>\n",
       "      <th>ParticipantResearchID</th>\n",
       "      <th>SurveyName</th>\n",
       "      <th>SurveyStartDate</th>\n",
       "      <th>SurveyQuestion</th>\n",
       "      <th>SurveyAnswer</th>\n",
       "    </tr>\n",
       "  </thead>\n",
       "  <tbody>\n",
       "    <tr>\n",
       "      <td>1</td>\n",
       "      <td>1825</td>\n",
       "      <td>Sleep Disturbance - Every 4th Quarter</td>\n",
       "      <td>2020-03-08</td>\n",
       "      <td>Do you snore loudly (louder than talking or lo...</td>\n",
       "      <td>False</td>\n",
       "    </tr>\n",
       "    <tr>\n",
       "      <td>7</td>\n",
       "      <td>3603</td>\n",
       "      <td>Life Stress - Biannually</td>\n",
       "      <td>2020-03-26</td>\n",
       "      <td>In the last month, how often have you felt tha...</td>\n",
       "      <td>1</td>\n",
       "    </tr>\n",
       "    <tr>\n",
       "      <td>8</td>\n",
       "      <td>4196</td>\n",
       "      <td>Sleep Disturbance - Quarterly</td>\n",
       "      <td>2020-03-21</td>\n",
       "      <td>In the past 7 days:My sleep was refreshing.</td>\n",
       "      <td>1</td>\n",
       "    </tr>\n",
       "    <tr>\n",
       "      <td>9</td>\n",
       "      <td>5463</td>\n",
       "      <td>Sleep Disturbance - Quarterly</td>\n",
       "      <td>2020-03-24</td>\n",
       "      <td>In the past 7 days:My sleep was refreshing.</td>\n",
       "      <td>2</td>\n",
       "    </tr>\n",
       "    <tr>\n",
       "      <td>16</td>\n",
       "      <td>3565</td>\n",
       "      <td>Generalized Anxiety Disorder - Quarterly</td>\n",
       "      <td>2020-03-26</td>\n",
       "      <td>Over the last 2 weeks, how often have you been...</td>\n",
       "      <td>1</td>\n",
       "    </tr>\n",
       "    <tr>\n",
       "      <td>17</td>\n",
       "      <td>3837</td>\n",
       "      <td>Generalized Anxiety Disorder - Quarterly</td>\n",
       "      <td>2020-03-18</td>\n",
       "      <td>Over the last 2 weeks, how often have you been...</td>\n",
       "      <td>0</td>\n",
       "    </tr>\n",
       "    <tr>\n",
       "      <td>23</td>\n",
       "      <td>1159</td>\n",
       "      <td>Generalized Anxiety Disorder - Quarterly</td>\n",
       "      <td>2020-03-24</td>\n",
       "      <td>How difficult have these made it for you to do...</td>\n",
       "      <td>1</td>\n",
       "    </tr>\n",
       "    <tr>\n",
       "      <td>24</td>\n",
       "      <td>1847</td>\n",
       "      <td>Life Stress - Biannually</td>\n",
       "      <td>2020-03-14</td>\n",
       "      <td>In the last month, how often have you felt dif...</td>\n",
       "      <td>1</td>\n",
       "    </tr>\n",
       "    <tr>\n",
       "      <td>30</td>\n",
       "      <td>5011</td>\n",
       "      <td>Sleep Disturbance - Quarterly</td>\n",
       "      <td>2020-03-26</td>\n",
       "      <td>In the past 7 days:My sleep was refreshing.</td>\n",
       "      <td>2</td>\n",
       "    </tr>\n",
       "    <tr>\n",
       "      <td>34</td>\n",
       "      <td>1933</td>\n",
       "      <td>Sleep Disturbance - Quarterly</td>\n",
       "      <td>2020-03-14</td>\n",
       "      <td>In the past 7 days:I had difficulty falling as...</td>\n",
       "      <td>1</td>\n",
       "    </tr>\n",
       "    <tr>\n",
       "      <td>35</td>\n",
       "      <td>6631</td>\n",
       "      <td>Generalized Anxiety Disorder - Quarterly</td>\n",
       "      <td>2020-03-13</td>\n",
       "      <td>Over the last 2 weeks, how often have you been...</td>\n",
       "      <td>2</td>\n",
       "    </tr>\n",
       "    <tr>\n",
       "      <td>36</td>\n",
       "      <td>3960</td>\n",
       "      <td>Sleep Disturbance - Quarterly</td>\n",
       "      <td>2020-03-27</td>\n",
       "      <td>In the past 7 days:I had difficulty falling as...</td>\n",
       "      <td>1</td>\n",
       "    </tr>\n",
       "    <tr>\n",
       "      <td>39</td>\n",
       "      <td>3719</td>\n",
       "      <td>Sleep Disturbance - Quarterly</td>\n",
       "      <td>2020-03-20</td>\n",
       "      <td>In the past 7 days:My sleep was refreshing.</td>\n",
       "      <td>4</td>\n",
       "    </tr>\n",
       "    <tr>\n",
       "      <td>40</td>\n",
       "      <td>119</td>\n",
       "      <td>Sleep Disturbance - Every 4th Quarter</td>\n",
       "      <td>2020-03-14</td>\n",
       "      <td>Do you snore loudly (louder than talking or lo...</td>\n",
       "      <td>False</td>\n",
       "    </tr>\n",
       "    <tr>\n",
       "      <td>47</td>\n",
       "      <td>2414</td>\n",
       "      <td>Sleep Disturbance - Every 4th Quarter</td>\n",
       "      <td>2020-03-06</td>\n",
       "      <td>In the past 7 days:My sleep quality was</td>\n",
       "      <td>2</td>\n",
       "    </tr>\n",
       "    <tr>\n",
       "      <td>51</td>\n",
       "      <td>2451</td>\n",
       "      <td>Sleep Disturbance - Quarterly</td>\n",
       "      <td>2020-03-29</td>\n",
       "      <td>In the past 7 days:My sleep quality was</td>\n",
       "      <td>1</td>\n",
       "    </tr>\n",
       "    <tr>\n",
       "      <td>52</td>\n",
       "      <td>4078</td>\n",
       "      <td>Generalized Anxiety Disorder - Quarterly</td>\n",
       "      <td>2020-03-28</td>\n",
       "      <td>How difficult have these made it for you to do...</td>\n",
       "      <td>0</td>\n",
       "    </tr>\n",
       "    <tr>\n",
       "      <td>55</td>\n",
       "      <td>1630</td>\n",
       "      <td>Sleep Disturbance - Quarterly</td>\n",
       "      <td>2020-03-06</td>\n",
       "      <td>In the past 7 days:I had difficulty falling as...</td>\n",
       "      <td>2</td>\n",
       "    </tr>\n",
       "    <tr>\n",
       "      <td>68</td>\n",
       "      <td>4117</td>\n",
       "      <td>Life Stress - Biannually</td>\n",
       "      <td>2020-03-01</td>\n",
       "      <td>In the last month, how often have you felt con...</td>\n",
       "      <td>2</td>\n",
       "    </tr>\n",
       "    <tr>\n",
       "      <td>71</td>\n",
       "      <td>1282</td>\n",
       "      <td>Sleep Disturbance - Quarterly</td>\n",
       "      <td>2020-03-18</td>\n",
       "      <td>In the past 7 days:My sleep was refreshing.</td>\n",
       "      <td>1</td>\n",
       "    </tr>\n",
       "  </tbody>\n",
       "</table>\n",
       "</div>"
      ],
      "text/plain": [
       "    ParticipantResearchID                                SurveyName  \\\n",
       "1                    1825     Sleep Disturbance - Every 4th Quarter   \n",
       "7                    3603                  Life Stress - Biannually   \n",
       "8                    4196             Sleep Disturbance - Quarterly   \n",
       "9                    5463             Sleep Disturbance - Quarterly   \n",
       "16                   3565  Generalized Anxiety Disorder - Quarterly   \n",
       "17                   3837  Generalized Anxiety Disorder - Quarterly   \n",
       "23                   1159  Generalized Anxiety Disorder - Quarterly   \n",
       "24                   1847                  Life Stress - Biannually   \n",
       "30                   5011             Sleep Disturbance - Quarterly   \n",
       "34                   1933             Sleep Disturbance - Quarterly   \n",
       "35                   6631  Generalized Anxiety Disorder - Quarterly   \n",
       "36                   3960             Sleep Disturbance - Quarterly   \n",
       "39                   3719             Sleep Disturbance - Quarterly   \n",
       "40                    119     Sleep Disturbance - Every 4th Quarter   \n",
       "47                   2414     Sleep Disturbance - Every 4th Quarter   \n",
       "51                   2451             Sleep Disturbance - Quarterly   \n",
       "52                   4078  Generalized Anxiety Disorder - Quarterly   \n",
       "55                   1630             Sleep Disturbance - Quarterly   \n",
       "68                   4117                  Life Stress - Biannually   \n",
       "71                   1282             Sleep Disturbance - Quarterly   \n",
       "\n",
       "   SurveyStartDate                                     SurveyQuestion  \\\n",
       "1       2020-03-08  Do you snore loudly (louder than talking or lo...   \n",
       "7       2020-03-26  In the last month, how often have you felt tha...   \n",
       "8       2020-03-21        In the past 7 days:My sleep was refreshing.   \n",
       "9       2020-03-24        In the past 7 days:My sleep was refreshing.   \n",
       "16      2020-03-26  Over the last 2 weeks, how often have you been...   \n",
       "17      2020-03-18  Over the last 2 weeks, how often have you been...   \n",
       "23      2020-03-24  How difficult have these made it for you to do...   \n",
       "24      2020-03-14  In the last month, how often have you felt dif...   \n",
       "30      2020-03-26        In the past 7 days:My sleep was refreshing.   \n",
       "34      2020-03-14  In the past 7 days:I had difficulty falling as...   \n",
       "35      2020-03-13  Over the last 2 weeks, how often have you been...   \n",
       "36      2020-03-27  In the past 7 days:I had difficulty falling as...   \n",
       "39      2020-03-20        In the past 7 days:My sleep was refreshing.   \n",
       "40      2020-03-14  Do you snore loudly (louder than talking or lo...   \n",
       "47      2020-03-06            In the past 7 days:My sleep quality was   \n",
       "51      2020-03-29            In the past 7 days:My sleep quality was   \n",
       "52      2020-03-28  How difficult have these made it for you to do...   \n",
       "55      2020-03-06  In the past 7 days:I had difficulty falling as...   \n",
       "68      2020-03-01  In the last month, how often have you felt con...   \n",
       "71      2020-03-18        In the past 7 days:My sleep was refreshing.   \n",
       "\n",
       "   SurveyAnswer  \n",
       "1         False  \n",
       "7             1  \n",
       "8             1  \n",
       "9             2  \n",
       "16            1  \n",
       "17            0  \n",
       "23            1  \n",
       "24            1  \n",
       "30            2  \n",
       "34            1  \n",
       "35            2  \n",
       "36            1  \n",
       "39            4  \n",
       "40        False  \n",
       "47            2  \n",
       "51            1  \n",
       "52            0  \n",
       "55            2  \n",
       "68            2  \n",
       "71            1  "
      ]
     },
     "execution_count": 103,
     "metadata": {},
     "output_type": "execute_result"
    }
   ],
   "source": [
    "sleep_survey202003.head(20)"
   ]
  },
  {
   "cell_type": "code",
   "execution_count": 104,
   "metadata": {},
   "outputs": [
    {
     "data": {
      "text/plain": [
       "array(['Do you snore loudly (louder than talking or loud enough to be heard through closed doors)?',\n",
       "       'In the last month, how often have you felt that things were going your way?',\n",
       "       'In the past 7 days:My sleep was refreshing.',\n",
       "       'Over the last 2 weeks, how often have you been bothered by the following problems?Worrying too much about different things',\n",
       "       'Over the last 2 weeks, how often have you been bothered by the following problems?Feeling nervous, anxious, or on edge',\n",
       "       'How difficult have these made it for you to do your work, take care of things at home, or get along with other people?',\n",
       "       'In the last month, how often have you felt difficulties were piling up so high that you could not overcome them?',\n",
       "       'In the past 7 days:I had difficulty falling asleep.',\n",
       "       'In the past 7 days:My sleep quality was',\n",
       "       'In the last month, how often have you felt confident about your ability to handle your personal problems?',\n",
       "       'Over the last 2 weeks, how often have you been bothered by the following problems?Not being able to stop or control worrying',\n",
       "       'Over the last 2 weeks, how often have you been bothered by the following problems?Becoming easily annoyed or irritable',\n",
       "       'Over the last 2 weeks, how often have you been bothered by the following problems?Trouble relaxing',\n",
       "       'Has anyone observed you stop breathing during your sleep?',\n",
       "       'In the past 7 days:I had a problem with my sleep.',\n",
       "       'In the last month, how often have you felt that you were unable to control the important things in your life?',\n",
       "       'How noticeable to others do you think your sleeping problem is in terms of impairing the quality of your life?',\n",
       "       'Over the last 2 weeks, how often have you been bothered by the following problems?Feeling afraid as if something awful might happen',\n",
       "       \"Over the last 2 weeks, how often have you been bothered by the following problems?Being so restless that it's hard to sit still\",\n",
       "       'Please rate the current (i.e. last 2 weeks) Severity of your sleep problems: Difficulty staying asleep',\n",
       "       'Please rate the current (i.e. last 2 weeks) Severity of your sleep problems: Problem waking up too early',\n",
       "       'How satisfied/dissatisfied are you with your current sleep pattern?',\n",
       "       'How worried/distressed are you about your current sleep problem?',\n",
       "       'To what extend do you consider your sleep problem to interfere with your daily functioning (e.g. daytime fatigue, ability to function at your work/daily chores, concentration, memory, mood, etc.)?'],\n",
       "      dtype=object)"
      ]
     },
     "execution_count": 104,
     "metadata": {},
     "output_type": "execute_result"
    }
   ],
   "source": [
    "# See all the questions\n",
    "sleep_survey202003.SurveyQuestion.unique()"
   ]
  },
  {
   "cell_type": "code",
   "execution_count": 97,
   "metadata": {},
   "outputs": [
    {
     "data": {
      "text/plain": [
       "array(['2', '1', '3', '4', '5'], dtype=object)"
      ]
     },
     "execution_count": 97,
     "metadata": {},
     "output_type": "execute_result"
    }
   ],
   "source": [
    "# See the possible answers to the question\n",
    "sleep_survey202003[sleep_survey202003.SurveyQuestion == 'In the past 7 days:I had a problem with my sleep.'].SurveyAnswer.unique()"
   ]
  },
  {
   "cell_type": "code",
   "execution_count": 15,
   "metadata": {},
   "outputs": [],
   "source": [
    "# Extract answer\n",
    "sleep_quality_202003 = sleep_survey202003[sleep_survey202003.SurveyQuestion == 'In the past 7 days:My sleep quality was'].SurveyAnswer\n",
    "sleep_quality_202003 = pd.to_numeric(sleep_quality_202003)"
   ]
  },
  {
   "cell_type": "code",
   "execution_count": 45,
   "metadata": {},
   "outputs": [
    {
     "data": {
      "text/plain": [
       "2.5179437439379244"
      ]
     },
     "execution_count": 45,
     "metadata": {},
     "output_type": "execute_result"
    }
   ],
   "source": [
    "# Calculate average\n",
    "sleep_quality_202003.mean()"
   ]
  },
  {
   "cell_type": "code",
   "execution_count": 78,
   "metadata": {},
   "outputs": [
    {
     "data": {
      "text/plain": [
       "0.035215913437657446"
      ]
     },
     "execution_count": 78,
     "metadata": {},
     "output_type": "execute_result"
    }
   ],
   "source": [
    "# Calculate standard error\n",
    "stats.sem(sleep_quality_202003, nan_policy = 'omit')"
   ]
  },
  {
   "cell_type": "markdown",
   "metadata": {},
   "source": [
    "### 3. Summary: steps to collect and visualize answers"
   ]
  },
  {
   "cell_type": "code",
   "execution_count": 83,
   "metadata": {},
   "outputs": [],
   "source": [
    "for time in time_array:\n",
    "    file = '/Users/wenjzh/githubproject/Health-Big-Data/data/Surveys/Surveys_' + time + '.csv'\n",
    "    survey = pd.read_csv(file, engine = \"python\")\n",
    "    sleep_survey = survey.loc[survey['SurveyName'].isin(['Sleep Disturbance - Quarterly'])]\n",
    "    sleep_survey = sleep_survey[['ParticipantResearchID', \n",
    "                                         'SurveyName', \n",
    "                                         'SurveyStartDate', \n",
    "                                         'SurveyQuestion', \n",
    "                                         'SurveyAnswer']]\n",
    "    sleep_quality = sleep_survey[sleep_survey.SurveyQuestion == 'In the past 7 days:My sleep quality was'].SurveyAnswer\n",
    "    sleep_quality = pd.to_numeric(sleep_quality)\n",
    "    quality_mean.append(sleep_quality.mean())\n",
    "    quality_se.append(stats.sem(sleep_quality, nan_policy = 'omit'))"
   ]
  },
  {
   "cell_type": "code",
   "execution_count": 92,
   "metadata": {},
   "outputs": [
    {
     "data": {
      "text/plain": [
       "<matplotlib.collections.PolyCollection at 0x127459410>"
      ]
     },
     "execution_count": 92,
     "metadata": {},
     "output_type": "execute_result"
    },
    {
     "data": {
      "image/png": "[encoded data removed]",
      "text/plain": [
       "<Figure size 432x288 with 1 Axes>"
      ]
     },
     "metadata": {
      "needs_background": "light"
     },
     "output_type": "display_data"
    }
   ],
   "source": [
    "under_line     = np.array(quality_mean) - 1.96 * np.array(quality_se)\n",
    "over_line      = np.array(quality_mean) + 1.96 * np.array(quality_se)\n",
    "plt.plot(time, quality_mean, linewidth=2) #mean curve.\n",
    "plt.fill_between(time, under_line, over_line, color='b', alpha=.1) #std curves."
   ]
  },
  {
   "cell_type": "code",
   "execution_count": null,
   "metadata": {},
   "outputs": [],
   "source": []
  }
 ],
 "metadata": {
  "kernelspec": {
   "display_name": "Python 3",
   "language": "python",
   "name": "python3"
  },
  "language_info": {
   "codemirror_mode": {
    "name": "ipython",
    "version": 3
   },
   "file_extension": ".py",
   "mimetype": "text/x-python",
   "name": "python",
   "nbconvert_exporter": "python",
   "pygments_lexer": "ipython3",
   "version": "3.7.4"
  }
 },
 "nbformat": 4,
 "nbformat_minor": 2
}
